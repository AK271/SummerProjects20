{
 "cells": [
  {
   "cell_type": "code",
   "execution_count": 28,
   "metadata": {},
   "outputs": [],
   "source": [
    "import cv2\n",
    "import numpy as np\n",
    "import copy"
   ]
  },
  {
   "cell_type": "markdown",
   "metadata": {},
   "source": [
    "#### Initialising all the parametric values"
   ]
  },
  {
   "cell_type": "code",
   "execution_count": 29,
   "metadata": {},
   "outputs": [],
   "source": [
    "theta=0.01  \n",
    "delta =1\n",
    "grid = np.random.rand(4,4)  # random initialisation of the grid world\n",
    "grid[0,0]=grid[3,3]=0 \n",
    "r=-1                        # reward parameter \n",
    "gamma=0.999                 # discounting factor\n",
    "pi = np.zeros((4,4,4))      # policy matrix\n",
    "\n",
    "directions= ['UP','DOWN','LEFT','RIGHT']\n",
    "dir_values=[-1,1,-1,1]\n",
    "\n",
    "dir_l=list(zip(directions,dir_values))  # list of action along with their values -1 for UP etc.\n"
   ]
  },
  {
   "cell_type": "markdown",
   "metadata": {},
   "source": [
    "#### Maximising state values"
   ]
  },
  {
   "cell_type": "code",
   "execution_count": 30,
   "metadata": {},
   "outputs": [
    {
     "name": "stdout",
     "output_type": "stream",
     "text": [
      "[[ 0.       -1.       -1.999    -2.997001]\n",
      " [-1.       -1.999    -2.997001 -1.999   ]\n",
      " [-1.999    -2.997001 -1.999    -1.      ]\n",
      " [-2.997001 -1.999    -1.        0.      ]]\n"
     ]
    }
   ],
   "source": [
    "while delta > theta:                # loop condition\n",
    "        delta =0\n",
    "        count+=1\n",
    "    \n",
    "    \n",
    "        for k in range (0,4):                   # running loop within all state values\n",
    "            for l in range (0,4):\n",
    "                if (k==0 and l==0) or (k==3 and l==3):\n",
    "                    continue\n",
    "                \n",
    "                grid_eval=np.zeros((4,1))       # evaluation grid \n",
    "                \n",
    "                v=grid[k,l]                     # temporary value\n",
    "                \n",
    "                \n",
    "                for m in range(0,2):            # storing values for actions UP and DOWN           \n",
    "                    \n",
    "                    \n",
    "                    if k==0 and m==0:\n",
    "                        \n",
    "                        grid_eval[m,0] = (r+gamma*(grid[k,l]))\n",
    "                        continue\n",
    "                    \n",
    "                    elif k==3 and m ==1:\n",
    "                        grid_eval[m,0] = (r+gamma*(grid[k,l]))\n",
    "                    \n",
    "                    else:\n",
    "                        grid_eval[m,0] = (r+gamma*(grid[k+dir_l[m][1],l]))\n",
    "                    \n",
    "                for m in range(2,4):             # storing values for actions LEFT and RIGHT\n",
    "                    \n",
    "                    \n",
    "                    if l==0 and m==2:\n",
    "                        \n",
    "                        grid_eval[m,0] = (r+gamma*(grid[k,l]))\n",
    "                        continue                \n",
    "                    elif l==3 and m==3:\n",
    "                        grid_eval[m,0] = (r+gamma*(grid[k,l]))\n",
    "                    \n",
    "                    else:\n",
    "                        grid_eval[m,0] = (r+gamma*(grid[k,l+dir_l[m][1]]))\n",
    "                \n",
    "                grid[k,l] = np.max(grid_eval)       # assigning max value to the current state grid[k,l]\n",
    "         \n",
    "\n",
    "                delta = max(delta ,abs(v-grid[k,l]))  # updating the delta value\n",
    "\n",
    "\n",
    "print(grid) #final state after setting maximising state values \n"
   ]
  },
  {
   "cell_type": "markdown",
   "metadata": {},
   "source": [
    "#### Finding optimal policy "
   ]
  },
  {
   "cell_type": "code",
   "execution_count": 31,
   "metadata": {},
   "outputs": [
    {
     "name": "stdout",
     "output_type": "stream",
     "text": [
      "[[[0. 0. 0. 0.]\n",
      "  [0. 0. 1. 0.]\n",
      "  [0. 0. 1. 0.]\n",
      "  [0. 1. 0. 0.]]\n",
      "\n",
      " [[1. 0. 0. 0.]\n",
      "  [1. 0. 0. 0.]\n",
      "  [1. 0. 0. 0.]\n",
      "  [0. 1. 0. 0.]]\n",
      "\n",
      " [[1. 0. 0. 0.]\n",
      "  [1. 0. 0. 0.]\n",
      "  [0. 1. 0. 0.]\n",
      "  [0. 1. 0. 0.]]\n",
      "\n",
      " [[1. 0. 0. 0.]\n",
      "  [0. 0. 0. 1.]\n",
      "  [0. 0. 0. 1.]\n",
      "  [0. 0. 0. 0.]]]\n"
     ]
    }
   ],
   "source": [
    "for k in range(0,4):\n",
    "    for l in range(0,4):\n",
    "        if (k==0 and l==0) or (k==3 and l==3):\n",
    "                    continue\n",
    "                \n",
    "        grid_eval=np.zeros((4,1))                \n",
    "\n",
    "        for m in range(0,2):                  \n",
    "\n",
    "\n",
    "            if k==0 and m==0:\n",
    "\n",
    "                grid_eval[m,0] = (r+gamma*(grid[k,l]))\n",
    "                continue\n",
    "\n",
    "            elif k==3 and m ==1:\n",
    "                grid_eval[m,0] = (r+gamma*(grid[k,l]))\n",
    "\n",
    "            else:\n",
    "                grid_eval[m,0] = (r+gamma*(grid[k+dir_l[m][1],l]))\n",
    "\n",
    "        for m in range(2,4):\n",
    "\n",
    "\n",
    "            if l==0 and m==2:\n",
    "\n",
    "                grid_eval[m,0] = (r+gamma*(grid[k,l]))\n",
    "                continue                \n",
    "            elif l==3 and m==3:\n",
    "                grid_eval[m,0] = (r+gamma*(grid[k,l]))\n",
    "\n",
    "            else:\n",
    "                grid_eval[m,0] = (r+gamma*(grid[k,l+dir_l[m][1]]))\n",
    "\n",
    "        pi[k,l,np.argmax(grid_eval,axis=0)]=1   # setting action which leads to max state value as 1\n",
    "        \n",
    "print(pi)\n",
    "# the optimal policy matrix is a 3D 4,4,4 matrix with first two indexes representing  rows and columns and last \n",
    "#index representing the action taken in order UP, DOWN, LEFT and RIGHT "
   ]
  },
  {
   "cell_type": "code",
   "execution_count": null,
   "metadata": {},
   "outputs": [],
   "source": []
  }
 ],
 "metadata": {
  "kernelspec": {
   "display_name": "Python 3",
   "language": "python",
   "name": "python3"
  },
  "language_info": {
   "codemirror_mode": {
    "name": "ipython",
    "version": 3
   },
   "file_extension": ".py",
   "mimetype": "text/x-python",
   "name": "python",
   "nbconvert_exporter": "python",
   "pygments_lexer": "ipython3",
   "version": "3.8.2"
  }
 },
 "nbformat": 4,
 "nbformat_minor": 4
}
