{
 "cells": [
  {
   "cell_type": "code",
   "execution_count": 2,
   "metadata": {},
   "outputs": [],
   "source": [
    "import cv2\n",
    "import numpy as np\n",
    "import copy"
   ]
  },
  {
   "cell_type": "code",
   "execution_count": 3,
   "metadata": {},
   "outputs": [],
   "source": [
    "pi = (np.ones((4,4,4))*0.25)"
   ]
  },
  {
   "cell_type": "code",
   "execution_count": 4,
   "metadata": {},
   "outputs": [],
   "source": [
    "def evaluation():\n",
    "    \n",
    "    directions= ['UP','DOWN','LEFT','RIGHT']\n",
    "    dir_values=[-1,1,-1,1]\n",
    "\n",
    "    dir_l=list(zip(directions,dir_values))\n",
    "    \n",
    "    grid = np.zeros((4,4)) # creating a grid of 4 by 4 with one extra cell \n",
    "    v=0   # comparision matrix, used to find convergence of solution\n",
    "    r=-1      # reward for each action\n",
    "    gamma=0.9999# discount reward factor\n",
    "    theta= 0.000001  \n",
    "    delta = 1\n",
    "    grid_old=np.zeros((4,4))\n",
    "    while delta > theta:\n",
    "        delta =0\n",
    "        grid_old = grid.copy()\n",
    "    \n",
    "        for k in range (0,4):                   # running loop within the actual grid\n",
    "            for l in range (0,4):\n",
    "                if (k==0 and l==0) or (k==3 and l==3):\n",
    "                    continue\n",
    "                \n",
    "                v=grid[k,l]\n",
    "                \n",
    "                grid[k,l]=0\n",
    "                \n",
    "                for m in range(0,2):                  \n",
    "                    \n",
    "                    \n",
    "                    if k==0 and m==0:\n",
    "                        \n",
    "                        grid[k,l]+= (pi[k,l,m])*(r+gamma*(grid_old[k,l]))\n",
    "                        continue\n",
    "                    \n",
    "                    elif k==3 and m ==1:\n",
    "                        grid[k,l]+= (pi[k,l,m])*(r+gamma*(grid_old[k,l]))\n",
    "                    \n",
    "                    else:\n",
    "                        grid[k,l]+= (pi[k,l,m])*(r+gamma*(grid_old[k+dir_l[m][1],l]))\n",
    "                    \n",
    "                for m in range(2,4):\n",
    "                    \n",
    "                    \n",
    "                    if l==0 and m==2:\n",
    "                        \n",
    "                        grid[k,l]+= (pi[k,l,m])*(r+gamma*(grid_old[k,l]))\n",
    "                        continue                \n",
    "                    elif l==3 and m==3:\n",
    "                        grid[k,l]+= (pi[k,l,m])*(r+gamma*(grid_old[k,l]))\n",
    "                    \n",
    "                    else:\n",
    "                        grid[k,l]+= (pi[k,l,m])*(r+gamma*(grid_old[k,l+dir_l[m][1]]))\n",
    "                    \n",
    "                #updating the State values for all states except terminal \n",
    "\n",
    "                delta = max(delta ,abs(v-grid[k,l]))\n",
    "\n",
    "        \n",
    "\n",
    "\n",
    "    print(grid) # final state value matrix for all states \n",
    "    print(delta)\n",
    "    return "
   ]
  },
  {
   "cell_type": "code",
   "execution_count": 5,
   "metadata": {},
   "outputs": [
    {
     "name": "stdout",
     "output_type": "stream",
     "text": [
      "[[  0.         -13.97583248 -19.96424812 -21.96005384]\n",
      " [-13.97583248 -17.9684424  -19.9644478  -19.96424812]\n",
      " [-19.96424812 -19.9644478  -17.9684424  -13.97583248]\n",
      " [-21.96005384 -19.96424812 -13.97583248   0.        ]]\n",
      "9.768993862735442e-07\n"
     ]
    }
   ],
   "source": [
    "evaluation()"
   ]
  },
  {
   "cell_type": "code",
   "execution_count": null,
   "metadata": {},
   "outputs": [],
   "source": []
  }
 ],
 "metadata": {
  "kernelspec": {
   "display_name": "Python 3",
   "language": "python",
   "name": "python3"
  },
  "language_info": {
   "codemirror_mode": {
    "name": "ipython",
    "version": 3
   },
   "file_extension": ".py",
   "mimetype": "text/x-python",
   "name": "python",
   "nbconvert_exporter": "python",
   "pygments_lexer": "ipython3",
   "version": "3.8.2"
  }
 },
 "nbformat": 4,
 "nbformat_minor": 4
}
